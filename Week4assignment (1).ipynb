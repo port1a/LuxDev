{
  "nbformat": 4,
  "nbformat_minor": 0,
  "metadata": {
    "colab": {
      "provenance": []
    },
    "kernelspec": {
      "name": "python3",
      "display_name": "Python 3"
    },
    "language_info": {
      "name": "python"
    }
  },
  "cells": [
    {
      "cell_type": "code",
      "source": [
        "# 1. Write a Python program to check whether a string is a palindrome or not using a stack.\n",
        "def is_palindrome(string):\n",
        "  stack=[]\n",
        "  # Imitating the stack.push() function\n",
        "  for letter in string:\n",
        "    stack.append(letter)\n",
        "  print(stack)\n",
        "  # Imitating the stack.pop() function where last in , first out\n",
        "  reversed_stack=[stack[i] for i in range(-1,((-len(stack))-1), -1)]\n",
        "  print(reversed_stack)\n",
        "  return stack==reversed_stack\n",
        "\n",
        "print(is_palindrome('Tabitha'))\n",
        "print(is_palindrome('malayalam'))\n"
      ],
      "metadata": {
        "colab": {
          "base_uri": "https://localhost:8080/"
        },
        "id": "06vU5lKvMiUi",
        "outputId": "45251e9d-6ec1-4a24-ee5a-19d1bf283194"
      },
      "execution_count": 2,
      "outputs": [
        {
          "output_type": "stream",
          "name": "stdout",
          "text": [
            "['T', 'a', 'b', 'i', 't', 'h', 'a']\n",
            "['a', 'h', 't', 'i', 'b', 'a', 'T']\n",
            "False\n",
            "['m', 'a', 'l', 'a', 'y', 'a', 'l', 'a', 'm']\n",
            "['m', 'a', 'l', 'a', 'y', 'a', 'l', 'a', 'm']\n",
            "True\n"
          ]
        }
      ]
    },
    {
      "cell_type": "code",
      "source": [
        "# 2. Explain the concept of list comprehension in Python with at least three examples\n",
        "'''\n",
        "\n",
        "List comprehensions are used to store executed iterated code within a list. A simple formula that explains this would be:\n",
        "\n",
        "new_list=[ expression(element) for element in old_list if condition ]\n",
        "\n",
        "where:\n",
        "\n",
        "expression: Represents the operation you want to execute on every item within the iterable.\n",
        "element: The term “variable” refers to each value taken from the iterable.\n",
        "iterable: specify the sequence of elements you want to iterate through.(e.g., a list, tuple, or string).\n",
        "condition: (Optional) A filter helps decide whether or not an element should be added to the new list.\n",
        "\n",
        "\n",
        "Some examples of list comprehensions in practice include:\n",
        "'''\n",
        "\n",
        "# A list comprehension to get a list of squares\n",
        "\n",
        "print([i**2 for i in range(10)])\n",
        "\n",
        "# A list comprehension to obtain even numbers\n",
        "\n",
        "print([i for i in range(10) if i%2==0])\n",
        "\n",
        "# A list comprehension to obtain odd numbers\n",
        "\n",
        "print([i for i in range(10) if i%2 !=0])"
      ],
      "metadata": {
        "colab": {
          "base_uri": "https://localhost:8080/"
        },
        "id": "cYpV0Om-MkRh",
        "outputId": "84bccd4e-174d-4558-bc6b-327ac5f3a71c"
      },
      "execution_count": 3,
      "outputs": [
        {
          "output_type": "stream",
          "name": "stdout",
          "text": [
            "[0, 1, 4, 9, 16, 25, 36, 49, 64, 81]\n",
            "[0, 2, 4, 6, 8]\n",
            "[1, 3, 5, 7, 9]\n"
          ]
        }
      ]
    },
    {
      "cell_type": "code",
      "source": [
        "# 3. Explain what a compound datatype is in Python with three examples\n",
        "\n",
        "'''\n",
        "A compound data type is one which can hold more than one value.\n",
        "\n",
        "Some compound data types in Python include:\n",
        "\n",
        "'''\n",
        "# 1. Tuples\n",
        "'''\n",
        "Tuples use () brackets, are ordered and immutable, meaning they cannot be changed.\n",
        "\n",
        "'''\n",
        "print('tuple example')\n",
        "tuple=('James', 1, True)\n",
        "print(tuple)\n",
        "print('Illustration of ordered property of tuples')\n",
        "print(tuple[0], tuple[2])\n",
        "\n",
        "# 2. Lists\n",
        "\n",
        "'''\n",
        "Lists are enclosed in square brackets, are ordered and are mutable\n",
        "\n",
        "'''\n",
        "print('list example')\n",
        "sample_list=['James', 1, False]\n",
        "\n",
        "print('Ordered property of lists:')\n",
        "print(sample_list[0],sample_list[1], sample_list[2])\n",
        "\n",
        "sample_list[0]='Jane'\n",
        "print('new list after mutating first element:')\n",
        "print(sample_list)\n",
        "\n",
        "# 3. Dictionaries\n",
        "\n",
        "'''\n",
        "\n",
        "Dictionaries use curly brackets. They are unique in that they use key-value pairs, are ordered and mutable also.\n",
        "\n",
        "'''\n",
        "\n",
        "dict= {\n",
        "    'numerals': [0,1,2,3],\n",
        "    'strings': ['James', 'Jane', 'Gabriel'],\n",
        "    'bools': [True, False]\n",
        "    }\n",
        "print('Dictionary example')\n",
        "print(dict)\n",
        "print('mutable property of dictionaries:')\n",
        "dict['numerals'][2]=4\n",
        "print('new dictionary after mutation of third element in numerals')\n",
        "print(dict)"
      ],
      "metadata": {
        "colab": {
          "base_uri": "https://localhost:8080/"
        },
        "id": "bE_0x8p9gkWb",
        "outputId": "864a805a-4e6d-4ecf-a555-ef4c9f21b1dd"
      },
      "execution_count": 4,
      "outputs": [
        {
          "output_type": "stream",
          "name": "stdout",
          "text": [
            "tuple example\n",
            "('James', 1, True)\n",
            "Illustration of ordered property of tuples\n",
            "James True\n",
            "list example\n",
            "Ordered property of lists:\n",
            "James 1 False\n",
            "new list after mutating first element:\n",
            "['Jane', 1, False]\n",
            "Dictionary example\n",
            "{'numerals': [0, 1, 2, 3], 'strings': ['James', 'Jane', 'Gabriel'], 'bools': [True, False]}\n",
            "mutable property of dictionaries:\n",
            "new dictionary after mutation of third element in numerals\n",
            "{'numerals': [0, 1, 4, 3], 'strings': ['James', 'Jane', 'Gabriel'], 'bools': [True, False]}\n"
          ]
        }
      ]
    },
    {
      "cell_type": "code",
      "source": [
        "# 4. Write a function that takes a string and returns a list of bigrams.\n",
        "import nltk\n",
        "nltk.download('punkt') # Download the 'punkt' tokenizer\n",
        "from nltk.tokenize import word_tokenize\n",
        "from nltk.util import bigrams\n",
        "def get_bigrams(string):\n",
        "  tokens = word_tokenize(string)\n",
        "  return list(bigrams(tokens))\n",
        "\n",
        "get_bigrams('Florence is roasting maize')\n"
      ],
      "metadata": {
        "colab": {
          "base_uri": "https://localhost:8080/"
        },
        "id": "Y5y1WHUppXh4",
        "outputId": "ad569e50-f649-4acf-fce1-9d05c73942a4"
      },
      "execution_count": 5,
      "outputs": [
        {
          "output_type": "stream",
          "name": "stderr",
          "text": [
            "[nltk_data] Downloading package punkt to /root/nltk_data...\n",
            "[nltk_data]   Package punkt is already up-to-date!\n"
          ]
        },
        {
          "output_type": "execute_result",
          "data": {
            "text/plain": [
              "[('Florence', 'is'), ('is', 'roasting'), ('roasting', 'maize')]"
            ]
          },
          "metadata": {},
          "execution_count": 5
        }
      ]
    },
    {
      "cell_type": "code",
      "source": [
        "# 5. Given a dictionary with keys as letters and values as lists of letters, write a function closest_key to find the key with the input value closest to the beginning of the list.\n",
        "\n",
        "def closest_key(dictionary, input_value):\n",
        "    closest_key = None\n",
        "    closest_index = float('inf')  # Initialize with infinity\n",
        "\n",
        "    for key, value_list in dictionary.items():\n",
        "        if input_value in value_list:\n",
        "            index = value_list.index(input_value)\n",
        "            if index < closest_index:\n",
        "                closest_index = index\n",
        "                closest_key = key\n",
        "\n",
        "    return closest_key\n",
        "\n",
        "sample_dict={\n",
        "    'a': ['x', 'y', 'z', 'w', 't'],\n",
        "    'b': ['u', 'v', 'w', 'x', 'y'],\n",
        "    'c': ['s', 't', 'u', 'v', 'w'],\n",
        "    'd': ['p', 'q', 'r', 's', 't']\n",
        "}\n",
        "\n",
        "closest_key(sample_dict, 'w')\n"
      ],
      "metadata": {
        "colab": {
          "base_uri": "https://localhost:8080/",
          "height": 36
        },
        "id": "_E_A1pMbxR_s",
        "outputId": "5e8db773-1166-4914-fef1-9233743ed77b"
      },
      "execution_count": 112,
      "outputs": [
        {
          "output_type": "execute_result",
          "data": {
            "text/plain": [
              "'b'"
            ],
            "application/vnd.google.colaboratory.intrinsic+json": {
              "type": "string"
            }
          },
          "metadata": {},
          "execution_count": 112
        }
      ]
    }
  ]
}